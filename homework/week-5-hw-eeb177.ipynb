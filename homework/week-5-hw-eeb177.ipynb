{
 "cells": [
  {
   "cell_type": "markdown",
   "metadata": {},
   "source": [
    "## *Class Challenge With Adi*"
   ]
  },
  {
   "cell_type": "markdown",
   "metadata": {},
   "source": [
    "Use wget to download the first data set\n",
    "There is a problem with the end of line characters. Saved the original fines as new files with corrected lines using **tr cat naure21074-f1.csv | tr \"\\r\" \"\\n\" > formatted.nature.csv**"
   ]
  },
  {
   "cell_type": "markdown",
   "metadata": {},
   "source": [
    "1) How many families are in this file?  \n",
    "Use tail -n +3 formatted.nature.csv | cut -d \",\" -f 3 | sort | uniq | wc -l  \n",
    "**answer: 195**\n",
    "\n",
    "2) Which family has the most species represented?  \n",
    "Use tail -n +3 formatted.nature.csv | cut -d \",\" -f 3 | sort | uniq -c | sort -n  \n",
    "**answer: Trochilidae**\n",
    "\n",
    "3) How many families have only a single species in them?  \n",
    "Use tail -n +3 formatted.nature.csv | cut -d \",\" -f 3 | sort | uniq -c | sort -nr | grep -w \"1\"| wc -l\n",
    "**answer: 61**\n",
    "\n",
    "4) How many families are present in the eBird data?  \n",
    "\n",
    "5) How many species are in each family of the eBird data?  "
   ]
  },
  {
   "cell_type": "code",
   "execution_count": null,
   "metadata": {
    "collapsed": true
   },
   "outputs": [],
   "source": []
  },
  {
   "cell_type": "markdown",
   "metadata": {},
   "source": [
    "# Part 3  \n",
    "#### Percentage of amino acid residues, part one  "
   ]
  },
  {
   "cell_type": "code",
   "execution_count": 17,
   "metadata": {
    "collapsed": false
   },
   "outputs": [],
   "source": [
    "def get_aa_percentage(aminoacids, aa):\n",
    "#need to convert amino acid string and input to upper case to satisfy asserts 2 and 3\n",
    "    aminoacids = aminoacids.upper()\n",
    "    aa = aa.upper()\n",
    "    \n",
    "    aacount = aminoacids.count(aa)\n",
    "    aminoacids_length = len(aminoacids)\n",
    "    percentaa = aacount * 100 / aminoacids_length\n",
    "    return percentaa\n",
    "\n",
    "assert get_aa_percentage(\"MSRSLLLRFLLFLLLLPPLP\", \"M\") == 5\n",
    "assert get_aa_percentage(\"MSRSLLLRFLLFLLLLPPLP\", \"r\") == 10\n",
    "assert get_aa_percentage(\"msrslllrfllfllllpplp\", \"L\") == 50\n",
    "assert get_aa_percentage(\"MSRSLLLRFLLFLLLLPPLP\", \"Y\") == 0"
   ]
  },
  {
   "cell_type": "markdown",
   "metadata": {},
   "source": [
    "#### Percentage of amino acid residues, part two"
   ]
  },
  {
   "cell_type": "code",
   "execution_count": 24,
   "metadata": {
    "collapsed": false
   },
   "outputs": [],
   "source": [
    "def get_aa_percentage(aminoacids, aalist=['A','I','L','M','F','W','Y','V']):\n",
    "    aminoacids = aminoacids.upper()\n",
    "    aalength = len(aminoacids)\n",
    "    total = 0\n",
    "    for aa in aalist:\n",
    "        aa = aa.upper()\n",
    "        aacount = aminoacids.count(aa)\n",
    "        total = total + aacount\n",
    "    percentaa = total * 100 / aalength\n",
    "    return percentaa\n",
    "assert get_aa_percentage(\"MSRSLLLRFLLFLLLLPPLP\", [\"M\"]) == 5\n",
    "assert get_aa_percentage(\"MSRSLLLRFLLFLLLLPPLP\", ['M', 'L']) == 55\n",
    "assert get_aa_percentage(\"MSRSLLLRFLLFLLLLPPLP\", ['F', 'S', 'L']) == 70\n",
    "assert get_aa_percentage(\"MSRSLLLRFLLFLLLLPPLP\") == 65"
   ]
  },
  {
   "cell_type": "code",
   "execution_count": null,
   "metadata": {
    "collapsed": true
   },
   "outputs": [],
   "source": []
  }
 ],
 "metadata": {
  "anaconda-cloud": {},
  "kernelspec": {
   "display_name": "Python [default]",
   "language": "python",
   "name": "python3"
  },
  "language_info": {
   "codemirror_mode": {
    "name": "ipython",
    "version": 3
   },
   "file_extension": ".py",
   "mimetype": "text/x-python",
   "name": "python",
   "nbconvert_exporter": "python",
   "pygments_lexer": "ipython3",
   "version": "3.5.2"
  }
 },
 "nbformat": 4,
 "nbformat_minor": 2
}
