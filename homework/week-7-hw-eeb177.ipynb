{
 "cells": [
  {
   "cell_type": "markdown",
   "metadata": {},
   "source": [
    "## *Podothecus accipenserinus*  \n",
    "### common name: Sturgeon poacher  "
   ]
  },
  {
   "cell_type": "code",
   "execution_count": 22,
   "metadata": {
    "collapsed": false
   },
   "outputs": [
    {
     "name": "stdout",
     "output_type": "stream",
     "text": [
      "Used for aquaculture- never/rarely\n",
      "Used as bait- never/rarely\n",
      "Danger = harmless\n"
     ]
    }
   ],
   "source": [
    "import urllib.request\n",
    "import json\n",
    "\n",
    "url_1 = \"https://fishbase.ropensci.org/species/?genus=Podothecus&species=accipenserinus\"\n",
    "raw_json = urllib.request.urlopen(url_1)\n",
    "decoded_json = raw_json.read().decode('utf-8')\n",
    "parsed_json= json.loads(decoded_json)\n",
    "raw_json.close()\n",
    "\n",
    "print(\"Used for aquaculture- \" + parsed_json[\"data\"][0][\"UsedforAquaculture\"])\n",
    "print(\"Used as bait- \" + parsed_json[\"data\"][0][\"UsedasBait\"])\n",
    "print(\"Danger = \" + parsed_json[\"data\"][0][\"Dangerous\"])"
   ]
  },
  {
   "cell_type": "markdown",
   "metadata": {},
   "source": [
    "## *Albula vulpes*\n",
    "### common name: Bonefish  "
   ]
  },
  {
   "cell_type": "code",
   "execution_count": 24,
   "metadata": {
    "collapsed": false
   },
   "outputs": [
    {
     "name": "stdout",
     "output_type": "stream",
     "text": [
      "Used for aquaculture- never/rarely\n",
      "Used as bait- usually\n",
      "Danger = reports of ciguatera poisoning\n"
     ]
    }
   ],
   "source": [
    "url_2 = \"https://fishbase.ropensci.org/species/?genus=Albula&species=vulpes\"\n",
    "raw_json = urllib.request.urlopen(url_2)\n",
    "decoded_json = raw_json.read().decode('utf-8')\n",
    "parsed_json= json.loads(decoded_json)\n",
    "raw_json.close()\n",
    "print(\"Used for aquaculture- \" + parsed_json[\"data\"][0][\"UsedforAquaculture\"])\n",
    "print(\"Used as bait- \" + parsed_json[\"data\"][0][\"UsedasBait\"])\n",
    "print(\"Danger = \" + parsed_json[\"data\"][0][\"Dangerous\"])"
   ]
  },
  {
   "cell_type": "code",
   "execution_count": null,
   "metadata": {
    "collapsed": true
   },
   "outputs": [],
   "source": []
  }
 ],
 "metadata": {
  "anaconda-cloud": {},
  "kernelspec": {
   "display_name": "Python [default]",
   "language": "python",
   "name": "python3"
  },
  "language_info": {
   "codemirror_mode": {
    "name": "ipython",
    "version": 3
   },
   "file_extension": ".py",
   "mimetype": "text/x-python",
   "name": "python",
   "nbconvert_exporter": "python",
   "pygments_lexer": "ipython3",
   "version": "3.5.2"
  }
 },
 "nbformat": 4,
 "nbformat_minor": 2
}
