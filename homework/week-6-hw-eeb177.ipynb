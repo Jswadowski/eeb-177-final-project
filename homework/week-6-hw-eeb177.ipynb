{
 "cells": [
  {
   "cell_type": "markdown",
   "metadata": {},
   "source": [
    "![badge1](Screenshot_pythonsyntax.png)\n",
    "![badge2](Screenshot_pythonsyntax_quiz.png)\n",
    "![badge3](Screenshot_strings&console.png)\n",
    "![badge4](Screenshot_conditionals_controlflow.png)\n",
    "![badge5](Screenshot_functions.png)\n",
    "![badge6](Screenshot_pythonlists_dictionaries.png)\n",
    "![badge7](Screenshot_lists_and_functions.png)\n",
    "![badge8](Screenshot_loops.png)\n",
    "![badge9](Screenshot_practice_makes_perfect.png)"
   ]
  },
  {
   "cell_type": "code",
   "execution_count": 3,
   "metadata": {
    "collapsed": false
   },
   "outputs": [
    {
     "name": "stdout",
     "output_type": "stream",
     "text": [
      "/bin/sh: 1: Syntax error: word unexpected (expecting \")\")\r\n"
     ]
    }
   ],
   "source": []
  },
  {
   "cell_type": "code",
   "execution_count": null,
   "metadata": {
    "collapsed": true
   },
   "outputs": [],
   "source": []
  }
 ],
 "metadata": {
  "anaconda-cloud": {},
  "kernelspec": {
   "display_name": "Python [default]",
   "language": "python",
   "name": "python3"
  },
  "language_info": {
   "codemirror_mode": {
    "name": "ipython",
    "version": 3
   },
   "file_extension": ".py",
   "mimetype": "text/x-python",
   "name": "python",
   "nbconvert_exporter": "python",
   "pygments_lexer": "ipython3",
   "version": "3.5.2"
  }
 },
 "nbformat": 4,
 "nbformat_minor": 2
}
