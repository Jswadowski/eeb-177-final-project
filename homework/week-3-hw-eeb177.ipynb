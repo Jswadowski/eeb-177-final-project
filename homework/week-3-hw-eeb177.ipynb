{
 "cells": [
  {
   "cell_type": "code",
   "execution_count": 8,
   "metadata": {
    "collapsed": false
   },
   "outputs": [
    {
     "name": "stdout",
     "output_type": "stream",
     "text": [
      "length: 54\n",
      "A content: 16\n",
      "T content: 21\n",
      "AT content is 0.6851851851851852\n"
     ]
    }
   ],
   "source": [
    "#Question 3 A\n",
    "my_dna =  \"ACTGATCGATTACGTATAGTATTTGCTATCATACATATATATCGATGCGTTCAT\"\n",
    "length = len(my_dna)\n",
    "A_content = my_dna.count('A')\n",
    "T_content = my_dna.count('T')\n",
    "print(\"length: \" + str(length))\n",
    "print(\"A content: \" + str(A_content))\n",
    "print(\"T content: \" + str(T_content))\n",
    "AT_content = (A_content + T_content) / length\n",
    "print(\"AT content is \" + str(AT_content))"
   ]
  },
  {
   "cell_type": "code",
   "execution_count": 2,
   "metadata": {
    "collapsed": false
   },
   "outputs": [
    {
     "name": "stdout",
     "output_type": "stream",
     "text": [
      "tgactagctaatgcatatcataaacgatagtatgtatatatagctacgcaagta\n",
      "TGACTAGCTAATGCATATCATAAACGATAGTATGTATATATAGCTACGCAAGTA\n"
     ]
    }
   ],
   "source": [
    "#Question 3 B\n",
    "my_dna =  \"ACTGATCGATTACGTATAGTATTTGCTATCATACATATATATCGATGCGTTCAT\"\n",
    "replacement_1 = my_dna.replace('A' , 't')\n",
    "replacement_2 = replacement_1.replace('T' , 'a')\n",
    "replacement_3 = replacement_2.replace('C' , 'g')\n",
    "replacement_4 = replacement_3.replace('G' , 'c')\n",
    "print(replacement_4)\n",
    "print(replacement_4.upper())"
   ]
  },
  {
   "cell_type": "code",
   "execution_count": 3,
   "metadata": {
    "collapsed": false
   },
   "outputs": [
    {
     "name": "stdout",
     "output_type": "stream",
     "text": [
      "fragment one is 22\n",
      "fragment two is 33\n"
     ]
    }
   ],
   "source": [
    "#Question 3 C\n",
    "my_dna = \"ACTGATCGATTACGTATAGTAGAATTCTATCATACATATATATCGATGCGTTCAT\"\n",
    "fragment1_length = my_dna.find(\"GAATTC\") + 1\n",
    "fragment2_length = len(my_dna) - (fragment1_length)\n",
    "print(\"fragment one is \" + str(fragment1_length))\n",
    "print(\"fragment two is \" + str(fragment2_length))"
   ]
  },
  {
   "cell_type": "code",
   "execution_count": 7,
   "metadata": {
    "collapsed": false
   },
   "outputs": [
    {
     "name": "stdout",
     "output_type": "stream",
     "text": [
      "ATCGATCGATCGATCGACTGACTAGTCATAGCTATGCATGTAGCTACTCGATCGATCGATCGATCATCGATCGATATCGATGCATCGACTACTAT\n",
      "77.23577235772358\n",
      "ATCGATCGATCGATCGACTGACTAGTCATAGCTATGCATGTAGCTACTCGATCGATCGATCGatcgatcgatcgatcgatcgatcatgctATCATCGATCGATATCGATGCATCGACTACTAT\n"
     ]
    }
   ],
   "source": [
    "#Question 3 D\n",
    "my_dna = \"ATCGATCGATCGATCGACTGACTAGTCATAGCTATGCATGTAGCTACTCGATCGATCGATCGATCGATCGATCGATCGATCGATCATGCTATCATCGATCGATATCGATGCATCGACTACTAT\"\n",
    "exon_1 = my_dna[0:62]\n",
    "exon_2 = my_dna[90:10000]\n",
    "print(exon_1 + exon_2)\n",
    "coding_length = len(exon_1 + exon_2)\n",
    "total_length = len(my_dna)\n",
    "print(100 * coding_length / total_length)\n",
    "my_dna = \"ATCGATCGATCGATCGACTGACTAGTCATAGCTATGCATGTAGCTACTCGATCGATCGATCGATCGATCGATCGATCGATCGATCATGCTATCATCGATCGATATCGATGCATCGACTACTAT\"\n",
    "exon_1 = my_dna[0:62]\n",
    "intron = my_dna[62:90]\n",
    "exon_2 = my_dna[90:10000]\n",
    "print(exon_1 + intron.lower() + exon_2)"
   ]
  },
  {
   "cell_type": "code",
   "execution_count": null,
   "metadata": {
    "collapsed": true
   },
   "outputs": [],
   "source": [
    "#Question 4 \n",
    "#Checking Your Understanding:\n",
    "\n",
    "#Sorting out References\n",
    "#It will print Hopper Grace\n",
    "\n",
    "#Slicing Strings\n",
    "#element [:4] shows oxyg. element [4:] shows en. element [:] shows oxygen.\n",
    "#element[-1] shows n. element [-2] shows e\n",
    "#element [1:-1]shows xyge, from first index to last index (non-inclusive)\n",
    "\n",
    "#Thin Slices\n",
    "#They both will show []\n",
    "\n",
    "#Plot Scaling\n",
    "#matplotlib sets x and y axes to min and max of the data.\n",
    "# axes3.set_ylabel('min')\n",
    "# axes3.plot(numpy.min(data, axis=0))\n",
    "# axes3.set_ylim(0,6)\n",
    "\n",
    "#Drawing Straight Lines\n",
    "#This is because matplotlib will draw a stright line between the points.\n",
    "\n",
    "#Make Your Own Plot\n",
    "# max_plot = matplotlib.pyplot.plot(numpy.std(data, axis=0)),\n",
    "# matplotlib.pyplot.show()\n",
    "\n",
    "#Moving Plots Around\n",
    "# import numpy\n",
    "# import matplotlib.pyplot\n",
    "# data = numpy.loadtxt(fname='data/inflammation-01.csv', delimiter=',')\n",
    "# fig = matplotlib.pyplot.figure(figsize=(3.0, 10.0))\n",
    "# axes1 = fig.add_subplot(3, 1, 1)\n",
    "# axes2 = fig.add_subplot(3, 1, 2)\n",
    "# axes3 = fig.add_subplot(3, 1, 3)\n",
    "# axes1.set_ylabel('average')\n",
    "# axes1.plot(numpy.mean(data, axis=0))\n",
    "# axes2.set_ylabel('max')\n",
    "# axes2.plot(numpy.max(data, axis=0))\n",
    "# axes3.set_ylabel('min')\n",
    "# axes3.plot(numpy.min(data, axis=0))\n",
    "# fig.tight_layout()\n",
    "# matplotlib.pyplot.show()\n",
    "\n",
    "#Stacking Arrays\n",
    "#You can delete the second column: \n",
    "# D = numpy.delete(A, 1, 1)\n",
    "# print('D = ')\n",
    "# print(D)\n",
    "               "
   ]
  }
 ],
 "metadata": {
  "anaconda-cloud": {},
  "kernelspec": {
   "display_name": "Python [default]",
   "language": "python",
   "name": "python3"
  },
  "language_info": {
   "codemirror_mode": {
    "name": "ipython",
    "version": 3
   },
   "file_extension": ".py",
   "mimetype": "text/x-python",
   "name": "python",
   "nbconvert_exporter": "python",
   "pygments_lexer": "ipython3",
   "version": "3.5.2"
  }
 },
 "nbformat": 4,
 "nbformat_minor": 2
}
