Question 1
1) Individuals 3 were recorded 61 times and individuals 27 were recorded 5 times.
2) cut -f 1 Gesquiere2011_data.csv | grep -c -w 27
3) 
#!/bin/bash
myIDS= 'tail -n +2 ../data/Gesquiere2011_data.csv | cut -f 1 | sort -n | uniq'
for id in $myIDS
do
    mycounts='bash counting_baboons.sh ../data/Gesquiere2011_data.csv $id'
    echo "ID:" $id "counts:"$mycounts
done

Question 2 (??)
#!/bin/bash

echo "Filename:"
echo $1
echo "Number of rows:"
cat $1 | wc -l
echo "Number of columns:"
head -n 1 $1 | tr -d ' ' | tr -d '\n' | wc -c

FILES=../data/Saavedra2013/*.txt
for f in $files
do
    myrow='cat $f | wc -l'
    mycol='head -n 1 $f | tr -d ' ' | tr -d '\n' | wc -c'
echo $f $myrow $mycol
done

3) file n58.txt has the largest # of rows (using sort -n -r -k 2 | head -n 1
file n56.txt has the largest number of columns (using sort -n -r -k 3 | head -n 1

Question 3
my_dna =  "ACTGATCGATTACGTATAGTATTTGCTATCATACATATATATCGATGCGTTCAT"
length = len(my_dna)
A_content = my_dna.count('A')
T_content = my_dna.count('T')
print("length: " + str(length))
print("A content: " + str(A_content))
print("T content: " + str(T_content))
AT_content = (A_content + T_content) / length
print("AT content is " + str(AT_content))

my_dna =  "ACTGATCGATTACGTATAGTATTTGCTATCATACATATATATCGATGCGTTCAT"
replacement_1 = my_dna.replace('A' , 't')
replacement_2 = replacement_1.replace('T' , 'a')
replacement_3 = replacement_2.replace('C' , 'g')
replacement_4 = replacement_3.replace('G' , 'c')
print(replacement_4)
print(replacement_4.upper())

my_dna = "ACTGATCGATTACGTATAGTAGAATTCTATCATACATATATATCGATGCGTTCAT"
fragment1_length = my_dna.find("GAATTC") + 1
fragment2_length = len(my_dna) - (fragment1_length)
print("fragment one is " + str(fragment1_length))
print("fragment two is " + str(fragment2_length))

my_dna = "ATCGATCGATCGATCGACTGACTAGTCATAGCTATGCATGTAGCTACTCGATCGATCGATCGATCGATCGATC
GATCGATCGATCATGCTATCATCGATCGATATCGATGCATCGACTACTAT"
exon_1 = my_dna[0:62]
exon_2 = my_dna[90:10000]
print(exon_1 + exon_2)
coding_length = len(exon_1 + exon_2)
total_length = len(my_dna)
print(coding_length / total_length) * 100
my_dna = "ATCGATCGATCGATCGACTGACTAGTCATAGCTATGCATGTAGCTACTCGATCGATCGATCGATCGATCGATC
GATCGATCGATCATGCTATCATCGATCGATATCGATGCATCGACTACTAT"
exon_1 = my_dna[0:62]
intron = my_dna[62:90]
exon_2 = my_dna[90:10000]
print(exon_1 + intron.lower() + exon_2)
