{
 "cells": [
  {
   "cell_type": "code",
   "execution_count": 5,
   "metadata": {
    "collapsed": false
   },
   "outputs": [
    {
     "name": "stdout",
     "output_type": "stream",
     "text": [
      "tCTGtTCGtTTtCGTtTtGTtTTTGCTtTCtTtCtTtTtTtTCGtTGCGTTCtT\n",
      "tCaGtaCGtaatCGatatGataaaGCataCtatCtatatataCGtaGCGaaCta\n",
      "tgaGtagGtaatgGatatGataaaGgatagtatgtatatatagGtaGgGaagta\n",
      "tgactagctaatgcatatcataaacgatagtatgtatatatagctacgcaagta\n",
      "TGACTAGCTAATGCATATCATAAACGATAGTATGTATATATAGCTACGCAAGTA\n"
     ]
    }
   ],
   "source": [
    "#Complementing DNA\n",
    "\n",
    "#first, replace 'A' with lowercase 't' so it doesn't get double-replaced in the future\n",
    "DNA =\"ACTGATCGATTACGTATAGTATTTGCTATCATACATATATATCGATGCGTTCAT\"\n",
    "first_replace = DNA.replace('A', 't')\n",
    "print(first_replace)\n",
    "#second, replace 'T' with 'a' for the same reason as ^\n",
    "second_replace = first_replace.replace('T', 'a')\n",
    "print(second_replace)\n",
    "#third, replace 'C' with 'g'for same reason\n",
    "third_replace = second_replace.replace('C', 'g')\n",
    "print(third_replace)\n",
    "#fourth, replace 'G' with 'c' \n",
    "fourth_replace = third_replace.replace('G', 'c')\n",
    "print(fourth_replace)\n",
    "print(fourth_replace.upper())"
   ]
  },
  {
   "cell_type": "code",
   "execution_count": 8,
   "metadata": {
    "collapsed": false
   },
   "outputs": [
    {
     "name": "stdout",
     "output_type": "stream",
     "text": [
      "22\n",
      "33\n"
     ]
    }
   ],
   "source": [
    "#Restriction fragment lengths\n",
    "DNA_1 = \"ACTGATCGATTACGTATAGTAGAATTCTATCATACATATATATCGATGCGTTCAT\"\n",
    "#find where EcoRI starts, then find the remaining length by what's left over\n",
    "fragment_1 = DNA_1.find(\"GAATTC\") + 1\n",
    "print(fragment_1)\n",
    "fragment_2 = len(DNA_1) - fragment_1\n",
    "print(fragment_2)"
   ]
  },
  {
   "cell_type": "code",
   "execution_count": 9,
   "metadata": {
    "collapsed": false
   },
   "outputs": [
    {
     "name": "stdout",
     "output_type": "stream",
     "text": [
      "ATCGATCGATCGATCGACTGACTAGTCATAGCTATGCATGTAGCTACTCGATCGATCGATCGATCATCGATCGATATCGATGCATCGACTACTAT\n"
     ]
    }
   ],
   "source": [
    "#Splicing out introns, part one\n",
    "#print the coding regions from start to 63 character and from 91 to end\n",
    "DNA_2 = \"ATCGATCGATCGATCGACTGACTAGTCATAGCTATGCATGTAGCTACTCGATCGATCGATCGATCGATCGATCGATCGATCGATCATGCTATCATCGATCGATATCGATGCATCGACTACTAT\"\n",
    "region_1 = DNA_2[0:62]\n",
    "region_2 = DNA_2[90:200]\n",
    "print(region_1 + region_2)"
   ]
  },
  {
   "cell_type": "code",
   "execution_count": 15,
   "metadata": {
    "collapsed": false
   },
   "outputs": [
    {
     "name": "stdout",
     "output_type": "stream",
     "text": [
      "123\n",
      "95\n",
      "77.23577235772358\n"
     ]
    }
   ],
   "source": [
    "#Splicing out introns, part two\n",
    "#what % of the DNA_2 is coding? Find (total length / length of region_1 + region_2) x 100\n",
    "length_DNA_2 = len(DNA_2)\n",
    "print(length_DNA_2)\n",
    "length_coding_region = len(region_1 + region_2)\n",
    "print(length_coding_region)\n",
    "print(100 * (length_coding_region / length_DNA_2))"
   ]
  },
  {
   "cell_type": "code",
   "execution_count": 24,
   "metadata": {
    "collapsed": false,
    "scrolled": true
   },
   "outputs": [
    {
     "name": "stdout",
     "output_type": "stream",
     "text": [
      "ATCGATCGATCGATCGACTGACTAGTCATAGCTATGCATGTAGCTACTCGATCGATCGATCG....ATCATCGATCGATATCGATGCATCGACTACTAT\n",
      "atcgatcgatcgatcgatcgatcatgct\n",
      "ATCGATCGATCGATCGACTGACTAGTCATAGCTATGCATGTAGCTACTCGATCGATCGATCGatcgatcgatcgatcgatcgatcatgctATCATCGATCGATATCGATGCATCGACTACTAT\n"
     ]
    }
   ],
   "source": [
    "#Splicing out introns, part three\n",
    "#coding bases from DNA_2 in uppercase\n",
    "print(region_1 + region_2)\n",
    "#non-coding bases in lowercase\n",
    "noncoding_region = DNA_2[62:90].lower()\n",
    "print(noncoding_region)\n",
    "#combined\n",
    "print(region_1 + noncoding_region + region_2)"
   ]
  },
  {
   "cell_type": "code",
   "execution_count": 27,
   "metadata": {
    "collapsed": true
   },
   "outputs": [
    {
     "ename": "FileNotFoundError",
     "evalue": "[Errno 2] No such file or directory: 'genomic_dna.txt'",
     "output_type": "error",
     "traceback": [
      "\u001b[0;31m---------------------------------------------------------------------------\u001b[0m",
      "\u001b[0;31mFileNotFoundError\u001b[0m                         Traceback (most recent call last)",
      "\u001b[0;32m<ipython-input-27-bce7ba15f0f5>\u001b[0m in \u001b[0;36m<module>\u001b[0;34m()\u001b[0m\n\u001b[1;32m      1\u001b[0m \u001b[0;31m#Splitting genomic DNA\u001b[0m\u001b[0;34m\u001b[0m\u001b[0;34m\u001b[0m\u001b[0m\n\u001b[0;32m----> 2\u001b[0;31m \u001b[0mDNA_file\u001b[0m \u001b[0;34m=\u001b[0m \u001b[0mopen\u001b[0m\u001b[0;34m(\u001b[0m\u001b[0;34m'genomic_dna.txt'\u001b[0m\u001b[0;34m)\u001b[0m  \u001b[0;31m#open file\u001b[0m\u001b[0;34m\u001b[0m\u001b[0m\n\u001b[0m\u001b[1;32m      3\u001b[0m \u001b[0mDNA_2\u001b[0m \u001b[0;34m=\u001b[0m \u001b[0mDNA_file\u001b[0m\u001b[0;34m.\u001b[0m\u001b[0mread\u001b[0m\u001b[0;34m(\u001b[0m\u001b[0;34m)\u001b[0m  \u001b[0;31m#read contents\u001b[0m\u001b[0;34m\u001b[0m\u001b[0m\n\u001b[1;32m      4\u001b[0m \u001b[0;34m\u001b[0m\u001b[0m\n\u001b[1;32m      5\u001b[0m \u001b[0mcoding_file\u001b[0m \u001b[0;34m=\u001b[0m \u001b[0mopen\u001b[0m\u001b[0;34m(\u001b[0m\u001b[0;34m'coding_DNA.txt'\u001b[0m\u001b[0;34m,\u001b[0m \u001b[0;34m\"w\"\u001b[0m\u001b[0;34m)\u001b[0m\u001b[0;34m\u001b[0m\u001b[0m\n",
      "\u001b[0;31mFileNotFoundError\u001b[0m: [Errno 2] No such file or directory: 'genomic_dna.txt'"
     ]
    }
   ],
   "source": [
    "#Splitting genomic DNA\n",
    "DNA_file = open('genomic_dna.txt')  #open file\n",
    "DNA_2 = DNA_file.read()  #read contents\n",
    "\n",
    "coding_file = open('coding_DNA.txt', \"w\")\n",
    "noncoding_file = open('noncoding_DNA.txt', \"w\")\n",
    "coding_file.write(region_1 + region_2)\n",
    "noncoding_file.write(noncoding_region)\n"
   ]
  },
  {
   "cell_type": "code",
   "execution_count": 32,
   "metadata": {
    "collapsed": false
   },
   "outputs": [
    {
     "name": "stdout",
     "output_type": "stream",
     "text": [
      ">ABC123\n",
      "ATCGTACGATCGATCGATCGCTAGACGTATCG\n",
      ">DEF456\n",
      "ACTGATCGACGATCGATCGATCACGACT\n",
      ">HIJ789\n",
      "ACTGACACTGTACTGTACATGTG\n"
     ]
    },
    {
     "data": {
      "text/plain": [
       "32"
      ]
     },
     "execution_count": 32,
     "metadata": {},
     "output_type": "execute_result"
    }
   ],
   "source": [
    "#Writing a FASTA file\n",
    "sequence_header1 = \"ABC123\"\n",
    "sequence_header2 = \"DEF456\"\n",
    "sequence_header3 = \"HIJ789\"\n",
    "DNA1 = \"ATCGTACGATCGATCGATCGCTAGACGTATCG\"\n",
    "DNA2 = \"actgatcgacgatcgatcgatcacgact\"\n",
    "DNA3 = \"ACTGAC-ACTGT--ACTGTA----CATGTG\"\n",
    "print('>' + sequence_header1 + '\\n' + DNA1)\n",
    "\n",
    "print('>' + sequence_header2 + '\\n' + DNA2.upper())\n",
    "\n",
    "print('>' + sequence_header3 + '\\n' + DNA3.replace('-', ''))\n",
    "output = open(\"sequences.FASTA\", \"w\")\n",
    "output.write('>' + sequence_header1 + '\\n' + DNA1 + '\\n')\n",
    "output.write('>' + sequence_header2 + '\\n' + DNA2.upper() + '\\n')\n",
    "output.write('>' + sequence_header3 + '\\n' + DNA3.replace('-', '') + '\\n')"
   ]
  },
  {
   "cell_type": "code",
   "execution_count": 39,
   "metadata": {
    "collapsed": true
   },
   "outputs": [
    {
     "ename": "FileNotFoundError",
     "evalue": "[Errno 2] No such file or directory: 'input.txt'",
     "output_type": "error",
     "traceback": [
      "\u001b[0;31m---------------------------------------------------------------------------\u001b[0m",
      "\u001b[0;31mFileNotFoundError\u001b[0m                         Traceback (most recent call last)",
      "\u001b[0;32m<ipython-input-39-e61abe4e5711>\u001b[0m in \u001b[0;36m<module>\u001b[0;34m()\u001b[0m\n\u001b[1;32m      1\u001b[0m \u001b[0;31m#Processing DNA in a file\u001b[0m\u001b[0;34m\u001b[0m\u001b[0;34m\u001b[0m\u001b[0m\n\u001b[0;32m----> 2\u001b[0;31m \u001b[0mfile\u001b[0m \u001b[0;34m=\u001b[0m \u001b[0mopen\u001b[0m\u001b[0;34m(\u001b[0m\u001b[0;34m\"input.txt\"\u001b[0m\u001b[0;34m)\u001b[0m\u001b[0;34m\u001b[0m\u001b[0m\n\u001b[0m\u001b[1;32m      3\u001b[0m \u001b[0moutput\u001b[0m \u001b[0;34m=\u001b[0m \u001b[0mopen\u001b[0m\u001b[0;34m(\u001b[0m\u001b[0;34m\"trimmingcode.txt\"\u001b[0m\u001b[0;34m,\u001b[0m \u001b[0;34m\"w\"\u001b[0m\u001b[0;34m)\u001b[0m\u001b[0;34m\u001b[0m\u001b[0m\n\u001b[1;32m      4\u001b[0m \u001b[0;32mfor\u001b[0m \u001b[0mDNA\u001b[0m \u001b[0;32min\u001b[0m \u001b[0mfile\u001b[0m\u001b[0;34m:\u001b[0m\u001b[0;34m\u001b[0m\u001b[0m\n\u001b[1;32m      5\u001b[0m     \u001b[0mseq_length_last\u001b[0m \u001b[0;34m=\u001b[0m \u001b[0mlen\u001b[0m\u001b[0;34m(\u001b[0m\u001b[0mDNA\u001b[0m\u001b[0;34m)\u001b[0m\u001b[0;34m\u001b[0m\u001b[0m\n",
      "\u001b[0;31mFileNotFoundError\u001b[0m: [Errno 2] No such file or directory: 'input.txt'"
     ]
    }
   ],
   "source": [
    "#Processing DNA in a file\n",
    "file = open(\"input.txt\")\n",
    "output = open(\"trimmingcode.txt\", \"w\")\n",
    "for DNA in file:\n",
    "    seq_length_last = len(DNA)\n",
    "    DNA_trimming = DNA[14 : seq_length_last]\n",
    "    output.write(DNA_trimming)\n",
    "    print(\"DNA processed\" + str(len(DNA_trimming)))\n",
    "output.close()\n"
   ]
  },
  {
   "cell_type": "code",
   "execution_count": null,
   "metadata": {
    "collapsed": true
   },
   "outputs": [],
   "source": [
    "#Multiple Exons from Genomic DNA\n",
    "genomicDNA = open(\"genomic_dna.txt\").read()\n",
    "ExonRegions = open(\"exons.txt\")\n",
    "code = \"\"\n",
    "for line in ExonRegions:\n",
    "    positions = line.split(',')\n",
    "    start_position = int(positions[0])\n",
    "    stop_position = int(positions[1])\n",
    "    exon = genomicDNA[start:stop]\n",
    "    code = code + exon\n",
    "output = open(\"code.txt\", \"w\")\n",
    "output.write(code)\n",
    "output.close()"
   ]
  }
 ],
 "metadata": {
  "anaconda-cloud": {},
  "kernelspec": {
   "display_name": "Python [default]",
   "language": "python",
   "name": "python3"
  },
  "language_info": {
   "codemirror_mode": {
    "name": "ipython",
    "version": 3
   },
   "file_extension": ".py",
   "mimetype": "text/x-python",
   "name": "python",
   "nbconvert_exporter": "python",
   "pygments_lexer": "ipython3",
   "version": "3.5.2"
  }
 },
 "nbformat": 4,
 "nbformat_minor": 2
}
