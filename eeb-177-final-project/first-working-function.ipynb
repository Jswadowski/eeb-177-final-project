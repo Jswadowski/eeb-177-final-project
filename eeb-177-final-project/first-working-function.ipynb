{
 "cells": [
  {
   "cell_type": "code",
   "execution_count": 77,
   "metadata": {
    "collapsed": false
   },
   "outputs": [],
   "source": [
    "import csv\n",
    "\n",
    "def hr_data(filename):\n",
    "    lines = []\n",
    "    data = open(filename, \"r\") #open the file\n",
    "    all_records = csv.reader(data, delimiter=\",\") #read the file\n",
    "    \n",
    "    #Removing header line\n",
    "    next(data, None)\n",
    "    #removing empty spaces\n",
    "    for i in data:\n",
    "        str(i).replace('','')\n",
    "        lines.append(i)\n",
    "    #HOW DO I removing trailing ,, ???\n",
    "    \n",
    "    \n",
    "    for row in all_records:  #loop over rows in the list all_records\n",
    "        lines.append(row)\n",
    "        \n",
    "    return lines\n",
    "        \n",
    "\n",
    "points = hr_data(\"Mila_Data.csv\")\n",
    "#print(\"\\n\".join(map(str,points)))  #prints horizontal instead of vertically\n",
    "                                #how can I put this as part of my function?\n",
    "#IT WORKS!\n",
    "        "
   ]
  },
  {
   "cell_type": "raw",
   "metadata": {},
   "source": []
  },
  {
   "cell_type": "code",
   "execution_count": null,
   "metadata": {
    "collapsed": true
   },
   "outputs": [],
   "source": []
  }
 ],
 "metadata": {
  "anaconda-cloud": {},
  "kernelspec": {
   "display_name": "Python [default]",
   "language": "python",
   "name": "python3"
  },
  "language_info": {
   "codemirror_mode": {
    "name": "ipython",
    "version": 3
   },
   "file_extension": ".py",
   "mimetype": "text/x-python",
   "name": "python",
   "nbconvert_exporter": "python",
   "pygments_lexer": "ipython3",
   "version": "3.5.2"
  }
 },
 "nbformat": 4,
 "nbformat_minor": 2
}
